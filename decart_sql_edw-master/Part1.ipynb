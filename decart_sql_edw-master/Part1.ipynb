{
 "cells": [
  {
   "cell_type": "markdown",
   "metadata": {},
   "source": [
    "## Part 1. SQL Review (Select statements)"
   ]
  },
  {
   "cell_type": "markdown",
   "metadata": {
    "collapsed": true
   },
   "source": [
    "<u>Overview</u>\n",
    "\n",
    "Please watch the following videos\n",
    "<ul>\n",
    "<li> Introduction to Relational Databases (about 12 minutes): https://youtu.be/4h3buIkePnw . Consider - what is a database and what makes it \"relational\"?</li>\n",
    "<li>Overview of the exemplar sndb.db (about 9 minutes): https://youtu.be/J3S5fLfyJ88 </li>\n",
    "</ul>\n",
    "\n",
    "Try it! Evaluate the following cell to get a list of tables in the the sndb database."
   ]
  },
  {
   "cell_type": "code",
   "execution_count": 1,
   "metadata": {},
   "outputs": [
    {
     "name": "stdout",
     "output_type": "stream",
     "text": [
      "adm_dx  blood   demog   dsc_dx  meds    vitals\n"
     ]
    }
   ],
   "source": [
    "%%bash\n",
    "sqlite3 ../../DATA/DBs/sndb.db\n",
    ".tables\n",
    ".exit"
   ]
  },
  {
   "cell_type": "markdown",
   "metadata": {},
   "source": [
    "To practice the activities in these videos, you will probably find it most convenient to use the terminal window and interact directly with the database there. \n",
    "\n",
    "If you have not done so already, go back to the main window and open a new terminal. \n",
    "\n",
    "<img src=\"media/newterminal.jpg\">\n",
    "\n",
    "\n",
    "Try typing the above database commands in the terminal window (i.e. the two lines \"sqlite3 DATA/DBS/sndb.db\" and \".tables\"). You should get a list of tables just like you got in the cell above.\n",
    "\n",
    "<img src=\"media/opensndb.jpg\">\n"
   ]
  },
  {
   "cell_type": "markdown",
   "metadata": {},
   "source": [
    "If you want to explore the structure of the tables, you can use the .schema command in sqlite - it works just like the .tables command you see above (replace .tables with .schema).\n",
    "\n",
    "\n",
    "**When you are done** in the terminal, please close the database file before stopping the terminal window. Do that with the \".exit\" command.\n"
   ]
  },
  {
   "cell_type": "markdown",
   "metadata": {},
   "source": [
    "<u>For each of the following</u>, I will assume you are **in the terminal window, with sqlite running the sndb.db** as above.\n",
    "\n",
    "\n",
    "*Format output*\n",
    "\n",
    "In the terminal window, with sqlite running the sndb.db (as above) - lets set things up to display the query results in a nice format.\n",
    "\n",
    "Use the **.header on** command to tell the system to display column names\n",
    "\n",
    "Use the **.mode columns** command to format the results in columns\n",
    "\n",
    "<img src=\"media/formatoutput.jpg\">\n",
    "\n"
   ]
  },
  {
   "cell_type": "markdown",
   "metadata": {
    "collapsed": true
   },
   "source": [
    "### SQL Select statement (reading data)\n",
    "\n",
    "<u>Overview</u> (about 12 minutes) https://youtu.be/jWGA0CD_NMc"
   ]
  },
  {
   "cell_type": "markdown",
   "metadata": {},
   "source": [
    "Practice. Try running these in the terminal window.\n",
    "\n",
    "*Simple queries*\n",
    "\n",
    "    Select * from demog;\n",
    "\n",
    "    Select ptname, pt_id from demog;\n",
    "\n",
    "*Concatenation, limits*\n",
    "\n",
    "Concatenation combines columns, or lets you add text to the data in the column. The \"limit\" clause restricts how many rows show up in our results. \n",
    "\n",
    "Still in the terminal window with sqlite running the sndb.db - try this query\n",
    "\n",
    "    select sbp||'/'||dbp as bp from vitals limit 3;\n",
    "\n",
    "*Distinct*\n",
    "\n",
    "    Select gender from demog; \n",
    "\n",
    "    Select distinct gender from demog;\n",
    "\n"
   ]
  },
  {
   "cell_type": "markdown",
   "metadata": {},
   "source": [
    "<u>WHERE clause</u>\n",
    "\n",
    "*Overview* (4 minutes): https://youtu.be/kjRms4_iyvk\n",
    "\n",
    "Practice\n",
    "      \n",
    "    Select pt_id, ptname from demog where ptname = ‘Hall, Arsenio’;\n",
    "\n",
    "    Select * from demog where gender is null;\n",
    "    \n",
    "*Table Joins* (11 min): https://youtu.be/XcEeR5mD-b4\n",
    "\n",
    "This video shows the ANSI standard version of SQL for table joins, which does the join in the WHERE clause. You may have previously learned table joins in the FROM clause - that is also allowable by most DBMS. You can put the SQL on a single line or multiple lines in the terminal window\n",
    "\n",
    "Practice\n",
    "\n",
    "    SELECT d.pt_id, ptname, temper\n",
    "    FROM demog d, vitals v\n",
    "    WHERE d.pt_id = v.pt_id;\n",
    "    \n",
    "Multiple tables are joined in pairs\n",
    "\n",
    "    SELECT d.pt_id, ptname, ad.diagnosis as admit, dc.diagnosis as discharge\n",
    "    FROM demog d, adm_dx ad, dsc_dx dc\n",
    "    WHERE d.pt_id = ad.pt_id\n",
    "    AND d.pt_id = dc.pt_id;\n",
    "\n",
    "*Conditions, predicate logic* (8 min): https://youtu.be/VoUFc-Yjgb0\n",
    "\n",
    "Practice\n",
    "\n",
    "    SELECT d.pt_id, ptname, HR\n",
    "    FROM demog.d, vitals v\n",
    "    WHERE d.pt_id = v.pt_id\n",
    "    AND HR > 80;\n",
    "    \n",
    "    Select ptname from demog\n",
    "    where zip IN (‘20015’, ‘21060’, ‘23315’);\n",
    "    \n",
    "    Select * from demog where ptname like 'Cr_stal%';\n",
    "\n"
   ]
  },
  {
   "cell_type": "markdown",
   "metadata": {},
   "source": [
    "<u>Functions</u>\n",
    "\n",
    "Sorting and grouping, functions (9 min): https://youtu.be/Ld2Uy4zF9Tg\n",
    "\n",
    "Practice\n",
    "\n",
    "    Select pt_id, temper from vitals\n",
    "    order by pt_id, temper desc\n",
    "    limit 20;\n",
    "\n",
    "    select pt_id, temper from vitals\n",
    "    order by cast(pt_id as integer), temper desc\n",
    "    limit 20;\n",
    "    \n",
    "    Select count(SBP) as TheCount, min(SBP) as MinSBP, max (temper) as HighTemp From vitals;\n",
    "    \n",
    "    SELECT pt_id, count(SBP) as TheCount, min(SBP) as MinSBP, max (temper) as HighTemp\n",
    "    FROM vitals\n",
    "    GROUP BY pt_id\n",
    "    HAVING count(SBP)>4\n",
    "    limit 20;\n",
    "\n"
   ]
  },
  {
   "cell_type": "markdown",
   "metadata": {},
   "source": [
    "<u>Miscellaneous</u>\n",
    "\n",
    "Miscellaneous tidbits (8 min): https://youtu.be/eSVVE76CI4k\n",
    "\n",
    "Practice\n",
    "\n",
    "*Note there is a typo in the video on this query. Correct version is below*\n",
    "\n",
    "    Select d.pt_id, ptname\n",
    "    From demog d, vitals v\n",
    "    Where d.pt_id=v.pt_id\n",
    "    and temper > (Select avg(temper) from vitals);\n",
    " "
   ]
  },
  {
   "cell_type": "markdown",
   "metadata": {},
   "source": [
    "## Next\n",
    "\n",
    "You can move on to [Part 2](part2.ipynb). Remember to close the database using the .exit command. You can close the terminal window as well."
   ]
  }
 ],
 "metadata": {
  "kernelspec": {
   "display_name": "Python 3",
   "language": "python",
   "name": "python3"
  },
  "language_info": {
   "codemirror_mode": {
    "name": "ipython",
    "version": 3
   },
   "file_extension": ".py",
   "mimetype": "text/x-python",
   "name": "python",
   "nbconvert_exporter": "python",
   "pygments_lexer": "ipython3",
   "version": "3.6.1"
  }
 },
 "nbformat": 4,
 "nbformat_minor": 2
}
