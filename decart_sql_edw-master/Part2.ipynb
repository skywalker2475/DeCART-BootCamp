{
 "cells": [
  {
   "cell_type": "markdown",
   "metadata": {},
   "source": [
    "## Part 2. Oracle Overview\n",
    "\n",
    "You have been writing queries in a DBMS called SQLITE. For the DECART EDW class days you will be working in **Oracle**, a high-end relational DBMS that is commonly used for an electronic health record (EHR) or enterprise data warehouse (EDW). \n",
    "\n",
    "Here is a website that discusses when you might consider a database like SQLITE and when you want to move to something like Oracle:  https://sqlite.org/whentouse.html\n",
    "\n",
    "Here is a video (about 6 minutes) showing a graphical user interface for SQLite and how that compares with a graphical interface for interacting with an Oracle database: https://youtu.be/QrxNLcygxSY\n",
    "\n",
    "The pre-requisite module is now complete. Please visit the Canvas site for instructions how to set up your computer to prepare for the EDW classes."
   ]
  },
  {
   "cell_type": "code",
   "execution_count": null,
   "metadata": {
    "collapsed": true
   },
   "outputs": [],
   "source": []
  }
 ],
 "metadata": {
  "kernelspec": {
   "display_name": "Python 3",
   "language": "python",
   "name": "python3"
  },
  "language_info": {
   "codemirror_mode": {
    "name": "ipython",
    "version": 3
   },
   "file_extension": ".py",
   "mimetype": "text/x-python",
   "name": "python",
   "nbconvert_exporter": "python",
   "pygments_lexer": "ipython3",
   "version": "3.6.1"
  }
 },
 "nbformat": 4,
 "nbformat_minor": 2
}
