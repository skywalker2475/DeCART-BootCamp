{
 "cells": [
  {
   "cell_type": "markdown",
   "metadata": {},
   "source": [
    "## Tree Classifiers\n",
    "\n",
    "### Decision Tree Construction Algorithm\n",
    "\n",
    "#### We build a tree top-down in a greedy manner.\n",
    "\n",
    "    function BuildDT(X, Y, threshold)\n",
    "        if (all the labels (Y) are the same\n",
    "            assign as leaf node with label set to class of Y\n",
    "            return tree\n",
    "        elseif (threshold is the minimum number of examples to keep)\n",
    "            assign as leaf node with label set to most commin class\n",
    "            return tree\n",
    "        else\n",
    "            let f be the feature that is best to split on\n",
    "            let leftChildBranch = BuildDT(data (X) where f=True, labels (Y) with f=True)\n",
    "            let rightChildBranch = BuildDT(data (X) where f=False, labels (Y) with f=False)\n",
    "            return tree\n",
    "            \n",
    "### Determining best split feature by evaluating node purity\n",
    "\n",
    "<img style=\"float: l;\" src=\"./images/Purity.png\">\n",
    " \n",
    "$Entropy(t) = - \\displaystyle \\sum_{i=0}^{c-1} p(\\space i \\space | \\space t \\space) \\space log_2 \\space p(\\space i \\space | \\space t \\space) \\space \\space \\space \\space \\space \\space \\space \\space \\space \\space Gini(t) = 1 - \\displaystyle \\sum_{i=0}^{c-1} [p(\\space i \\space | \\space t \\space)]^2 \\space \\space \\space \\space \\space \\space \\space \\space \\space \\space Classification \\space error(t) = 1 - \\max_i [p(\\space i \\space | \\space t \\space)]$\n",
    "\n",
    "#### 1) Determine which feature is better to split on ?\n",
    "<img style=\"float: left;\" src=\"./images/Gini.png\">  $ A.N1 = 1 - (4/7)^2 + (3/7)^2 = 0.4898 \\space \\space \\space \\space \\space \\space \\space \\space \\space \\space \\space \\space \\space \\space \\space \\space \\space \\space \\space \\space \\space \\space \\space \\space \\space \\space \\space \\space \\space \\space \\space \\space \\space \\space \\space \\space \\space \\space \\space \\space \\space \\space$\n",
    "                                           $ A.N2 = 1 - (2/5)^2 + (3/5)^2 = 0.4800 \\space \\space \\space \\space \\space \\space \\space \\space \\space \\space \\space \\space \\space \\space \\space \\space \\space \\space \\space \\space \\space \\space \\space \\space \\space \\space \\space \\space \\space \\space \\space \\space \\space \\space \\space \\space \\space \\space \\space \\space \\space \\space$\n",
    "                                           $A = (7/12) x 0.4898 + (5/12) X 0.4800 = 0.486$ \n"
   ]
  },
  {
   "cell_type": "markdown",
   "metadata": {},
   "source": [
    "                                           \n",
    "### Environment Setup"
   ]
  },
  {
   "cell_type": "code",
   "execution_count": 5,
   "metadata": {
    "collapsed": true
   },
   "outputs": [],
   "source": [
    "import re\n",
    "import nltk\n",
    "import numpy as np\n",
    "import pandas as pd\n",
    "import pickle as pkl\n",
    "from sklearn.feature_extraction.text import CountVectorizer\n",
    "from sklearn.tree import DecisionTreeClassifier\n",
    "from sklearn.model_selection import KFold\n",
    "from sklearn.metrics import roc_curve, auc\n",
    "from nltk.corpus import stopwords\n",
    "%matplotlib inline \n",
    "import matplotlib.pyplot as plt"
   ]
  },
  {
   "cell_type": "markdown",
   "metadata": {},
   "source": [
    "### Syntatic NLP Processing\n",
    "\n",
    "#### We will define some Python functions that will perform some syntatic work on our corpus. "
   ]
  },
  {
   "cell_type": "code",
   "execution_count": 6,
   "metadata": {
    "collapsed": true
   },
   "outputs": [],
   "source": [
    "def tokenize(text):\n",
    "    tokens = [word for sent in nltk.sent_tokenize(text) for word in nltk.word_tokenize(sent)]\n",
    "    filtered_tokens = [ token for token in tokens if re.search('(^[a-zA-Z]+$)', token) ]\n",
    "    return filtered_tokens\n",
    "\n",
    "cachedStopWords = stopwords.words(\"english\") + ['year', 'old', 'man', 'woman', 'ap', 'am', 'pm', 'portable', 'pa', 'lat', 'admitting', 'diagnosis', 'lateral']\n"
   ]
  },
  {
   "cell_type": "markdown",
   "metadata": {},
   "source": [
    "### Retrieving our Corpus\n",
    "\n",
    "#### Let's pull in our corpus that we had serialized out to disk.  "
   ]
  },
  {
   "cell_type": "code",
   "execution_count": 8,
   "metadata": {
    "collapsed": true
   },
   "outputs": [],
   "source": [
    "file = open('differential-corpus.pkl','rb')\n",
    "corpus = pkl.load(file)\n",
    "file.close()\n",
    "corpusList = list(corpus.values())\n",
    "labels = list(corpus.keys())"
   ]
  },
  {
   "cell_type": "markdown",
   "metadata": {},
   "source": [
    "### Generate Document-Term Frequency Counts\n",
    "\n",
    "#### In this step we tokenize our text and remove stop words in addition to generating our frequency counts.\n",
    "\n",
    "#### 1) How many documents are we working with and how many features (unigrams & bigrams)?\n",
    "\n",
    "#### 2) Can you figure out what max_df and min_df is doing to our feature count?"
   ]
  },
  {
   "cell_type": "code",
   "execution_count": 9,
   "metadata": {},
   "outputs": [
    {
     "name": "stdout",
     "output_type": "stream",
     "text": [
      "(1500, 773)\n",
      "\n",
      "['abd', 'abdomen', 'abdomen contrast', 'abdomen pelvis', 'abdominal', 'abnormalities', 'acquired', 'acute', 'acute sob', 'addition', 'adjacent', 'administered', 'administration', 'adrenal', 'adrenal glands', 'air', 'air space', 'airspace', 'allowing', 'along', 'also', 'also noted', 'although', 'alveolar', 'amount', 'amt', 'amt final', 'amt underlying', 'angle', 'anterior', 'aorta', 'aortic', 'aortic stenosis', 'apex', 'apical', 'apices', 'appear', 'appearance', 'appears', 'approximately', 'approximately cm', 'area', 'areas', 'arrest', 'arteries', 'artery', 'ascites', 'aspect', 'aspiration', 'assess', 'associated', 'atelectasis', 'atelectasis left', 'atrial', 'atrium', 'attenuation', 'available', 'axial', 'axial images', 'axillary', 'base', 'bases', 'basilar', 'bibasilar', 'bilateral', 'bilateral pleural', 'bilateral pulmonary', 'bilaterally', 'bladder', 'bleed', 'blunting', 'bone', 'bone windows', 'bowel', 'breath', 'c', 'ca', 'cabg', 'cad', 'cad chf', 'calcification', 'calcifications', 'calcified', 'cancer', 'cardiac', 'cardiac mediastinal', 'cardiac silhouette', 'cardiomediastinal', 'cardiomegaly', 'carina', 'catheter', 'catheter terminates', 'catheter tip', 'cc', 'cc optiray', 'central', 'central line', 'central venous', 'change', 'change final', 'changed', 'changes', 'check', 'chest clip', 'chest compared', 'chest comparison', 'chest contrast', 'chest ct', 'chest different', 'chest history', 'chest indication', 'chest obtained', 'chest pain', 'chest physician', 'chest port', 'chest radiograph', 'chest single', 'chest w', 'chf', 'chf final', 'chf reason', 'chf underlying', 'chronic', 'clear', 'clinical', 'clinical indication', 'clips', 'cm', 'cm carina', 'collapse', 'colon', 'compared', 'compared previous', 'compared prior', 'comparison', 'comparison chest', 'comparison findings', 'comparison made', 'comparisons', 'condition acute', 'condition cad', 'condition chf', 'condition copd', 'condition critical', 'condition reason', 'condition sob', 'condition yo', 'confirm', 'congestion', 'congestive', 'congestive heart', 'consistent', 'consolidation', 'consolidation left', 'consolidation right', 'consolidations', 'cont', 'contiguous', 'contiguous axial', 'continued', 'contour', 'contours', 'contours stable', 'contours unchanged', 'contraindications', 'contraindications iv', 'contrast', 'contrast administered', 'contrast cc', 'contrast clip', 'contrast ct', 'contrast final', 'contrast optiray', 'contrast reason', 'copd', 'coronary', 'coronary artery', 'costophrenic', 'costophrenic angle', 'cough', 'could', 'could represent', 'critical', 'ct', 'ct abdomen', 'ct chest', 'ct non', 'ct nonionic', 'ct pelvis', 'cta', 'cxr', 'date ct', 'dated', 'day', 'days', 'decreased', 'defects', 'definite', 'degenerative', 'degenerative changes', 'degree', 'demonstrate', 'demonstrated', 'demonstrates', 'dense', 'density', 'described', 'diaphragm', 'differences', 'different', 'different physician', 'difficult', 'diffuse', 'dilatation', 'discussed', 'disease', 'distal', 'distress', 'dm', 'due', 'dyspnea', 'earlier', 'edema', 'edema aortic', 'edema final', 'edema underlying', 'effusion', 'effusion final', 'effusion impression', 'effusion pneumothorax', 'effusion right', 'effusion underlying', 'effusions', 'effusions right', 'elevated', 'emphysema', 'endotracheal', 'endotracheal tube', 'engorgement', 'enlarged', 'enlargement', 'et', 'et tube', 'etiology', 'ett', 'eval', 'evaluate', 'evaluation', 'evidence', 'evidence pneumothorax', 'exacerbation', 'exam', 'examination assess', 'examination chf', 'examination eval', 'examination evaluate', 'examination please', 'examination yo', 'excluded', 'extensive', 'failure', 'failure underlying', 'female', 'fever', 'field', 'field view', 'filling', 'film', 'films', 'findings', 'findings single', 'first', 'first name', 'fluid', 'focal', 'foley', 'foley catheter', 'following', 'free', 'free fluid', 'gallbladder', 'given', 'glands', 'glass', 'good', 'good position', 'greater', 'greater left', 'grossly', 'ground', 'haziness', 'heart', 'heart enlarged', 'heart failure', 'heart size', 'helically', 'helically acquired', 'hemidiaphragm', 'high', 'hilar', 'hilar contours', 'history', 'hours', 'however', 'hypotension', 'hypoxia', 'hypoxia reason', 'identified', 'identified impression', 'ij', 'image', 'imaged', 'images', 'images obtained', 'imaging', 'impression bilateral', 'impression chest', 'impression evidence', 'impression interval', 'impression persistent', 'improved', 'improvement', 'improving', 'included', 'increase', 'increased', 'increased opacity', 'increasing', 'indication', 'indication history', 'indication status', 'indications', 'infection', 'infectious', 'infectious process', 'infiltrate', 'infiltrate final', 'infiltrates', 'initial', 'initial pre', 'inlet', 'internal', 'internal jugular', 'interstitial', 'interstitial edema', 'interval', 'interval change', 'interval improvement', 'intravenous', 'intravenous contrast', 'intubated', 'intubation', 'ionic', 'ionic contrast', 'ischemic', 'iv', 'iv contrast', 'jugular', 'junction', 'kidney', 'kidneys', 'known', 'l', 'large', 'large right', 'largest', 'last', 'layering', 'lead', 'leads', 'left', 'left base', 'left lower', 'left lung', 'left pleural', 'left retrocardiac', 'left side', 'left sided', 'left subclavian', 'left upper', 'left ventricular', 'lesion', 'lesions', 'less', 'level', 'likely', 'likely represents', 'limited', 'limits', 'line', 'line placement', 'line tip', 'linear', 'lines', 'liver', 'liver spleen', 'lll', 'lobe', 'lobe atelectasis', 'lobe consolidation', 'lobe pneumonia', 'lobes', 'located', 'loculated', 'loops', 'low', 'lower', 'lower lobe', 'lower lobes', 'lower lung', 'lung', 'lung apices', 'lung base', 'lung bases', 'lung volumes', 'lungs', 'lymph', 'lymph nodes', 'lymphadenopathy', 'lytic', 'made', 'made prior', 'main', 'main pulmonary', 'male', 'marked', 'markings', 'mass', 'masses', 'may', 'may represent', 'measures', 'measuring', 'median', 'median sternotomy', 'mediastinal', 'mediastinal contours', 'mediastinal hilar', 'mediastinal lymph', 'mediastinum', 'mi', 'mid', 'middle', 'middle lobe', 'mild', 'mildly', 'minimal', 'mm', 'moderate', 'multifocal', 'multifocal pneumonia', 'multiplanar', 'multiple', 'name', 'name stitle', 'nasogastric', 'nasogastric tube', 'new', 'ng', 'ng tube', 'nodes', 'nodular', 'nodules', 'non', 'non ionic', 'nonionic', 'nonionic contrast', 'normal', 'normal limits', 'normal size', 'note', 'note made', 'noted', 'obstruction', 'obtained', 'obtained lung', 'one', 'opacification', 'opacities', 'opacity', 'opacity left', 'opacity right', 'optiray', 'optiray amt', 'oral', 'osseous', 'osseous structures', 'otherwise', 'overall', 'overlying', 'pacemaker', 'pacer', 'pain', 'pancreas', 'parenchymal', 'partially', 'particularly', 'patchy', 'patent', 'patient', 'pattern', 'pe', 'pelvic', 'pelvis', 'pelvis contrast', 'performed', 'pericardial', 'pericardial effusion', 'perihilar', 'perihilar haziness', 'persistent', 'physician', 'physician initial', 'picc', 'picc line', 'place', 'placed', 'placement', 'placement final', 'please', 'please assess', 'please eval', 'please evaluate', 'pleural', 'pleural effusion', 'pleural effusions', 'pna', 'pneumonia', 'pneumonia chf', 'pneumonia final', 'pneumonia underlying', 'pneumothorax', 'pneumothorax identified', 'pneumothorax impression', 'pneumothorax seen', 'port', 'port line', 'portion', 'portions', 'position', 'positioning', 'possible', 'possibly', 'post', 'posterior', 'posteriorly', 'pre', 'pre number', 'present', 'previous', 'previous study', 'previously', 'prior', 'prior exam', 'prior film', 'prior study', 'probable', 'probably', 'process', 'progression', 'prominence', 'prominent', 'proximal', 'pt', 'ptx', 'pulm', 'pulm edema', 'pulmonary', 'pulmonary artery', 'pulmonary edema', 'pulmonary vascular', 'pulmonary vasculature', 'question', 'r', 'radiograph', 'radiograph chest', 'radiology ct', 'reason assess', 'reason chf', 'reason eval', 'reason evaluate', 'reason please', 'recent', 'recommended', 'redistribution', 'region', 'regions', 'related', 'remain', 'remains', 'removed', 'renal', 'replacement', 'report chest', 'report clinical', 'report cont', 'report history', 'report indication', 'report indications', 'represent', 'representing', 'represents', 'residual', 'resolution', 'resp', 'resp distress', 'respiratory', 'respiratory distress', 'respiratory failure', 'retrocardiac', 'retrocardiac opacity', 'retroperitoneal', 'retroperitoneal bleed', 'rib', 'right', 'right atrium', 'right ij', 'right internal', 'right lower', 'right lung', 'right middle', 'right pleural', 'right subclavian', 'right upper', 'right ventricle', 'rule', 'satisfactory', 'satisfactory position', 'scan', 'scattered', 'secondary', 'seen', 'seen impression', 'seen right', 'seen within', 'several', 'severe', 'severe chf', 'shortness', 'shortness breath', 'shows', 'side', 'sided', 'significant', 'significant change', 'significantly', 'significantly changed', 'silhouette', 'since', 'since prior', 'single', 'single view', 'size', 'slight', 'slightly', 'small', 'small amount', 'small bilateral', 'small bowel', 'small left', 'small pleural', 'small right', 'sob', 'sob reason', 'soft', 'soft tissue', 'somewhat', 'space', 'spine', 'spleen', 'stable', 'stable appearance', 'status', 'status post', 'stenosis', 'stenosis underlying', 'sternotomy', 'stitle', 'stomach', 'structures', 'structures unremarkable', 'studies', 'study', 'subclavian', 'subclavian line', 'suggest', 'suggesting', 'suggestive', 'superimposed', 'superior', 'supine', 'supine chest', 'surgical', 'suspicious', 'suspicious lytic', 'svc', 'symphysis', 'technique', 'technique contiguous', 'technique helically', 'terminates', 'terminating', 'thickening', 'thoracentesis', 'thoracic', 'thoracic aorta', 'thoracic inlet', 'throughout', 'time', 'tiny', 'tip', 'tip right', 'tissue', 'today', 'tortuous', 'tracheostomy', 'tracheostomy tube', 'tube', 'tube placement', 'tube seen', 'tube tip', 'tubes', 'two', 'ultrasound', 'unchanged', 'unchanged impression', 'unchanged position', 'unremarkable', 'unremarkable impression', 'upper', 'upper abdomen', 'upper lobe', 'upper zone', 'upright', 'upright chest', 'used', 'valve', 'vascular', 'vascular congestion', 'vascular engorgement', 'vasculature', 'vein', 'venous', 'venous catheter', 'ventricle', 'ventricular', 'versus', 'vessels', 'view', 'view chest', 'view contrast', 'views', 'visualized', 'volume', 'volumes', 'w', 'w c', 'wall', 'well', 'windows', 'wires', 'within', 'within left', 'within normal', 'within right', 'without', 'without evidence', 'without iv', 'worsening', 'x', 'yo', 'zone', 'zone redistribution']\n",
      "\n"
     ]
    }
   ],
   "source": [
    "cv = CountVectorizer(lowercase=True, max_df=0.80, max_features=None, min_df=0.033,\n",
    "                     ngram_range=(1, 2), preprocessor=None, stop_words=cachedStopWords,\n",
    "                     strip_accents=None, tokenizer=tokenize, vocabulary=None)\n",
    "X = cv.fit_transform(corpusList)\n",
    "print(X.shape)\n",
    "print()\n",
    "lexicon = cv.get_feature_names()\n",
    "print (lexicon)\n",
    "print()"
   ]
  },
  {
   "cell_type": "markdown",
   "metadata": {},
   "source": [
    "### Construct our Classes\n",
    "\n",
    "#### We need to assign a class for each classification. We typically assign numeric values to classes."
   ]
  },
  {
   "cell_type": "code",
   "execution_count": 10,
   "metadata": {
    "collapsed": true
   },
   "outputs": [],
   "source": [
    "Y = []\n",
    "for key in corpus:        \n",
    "    if (key.startswith('COPD') or key.startswith('CHF')):\n",
    "        Y.append(0)\n",
    "    elif (key.startswith('PNA')):\n",
    "        Y.append(1)\n",
    "Y = np.array(Y)"
   ]
  },
  {
   "cell_type": "markdown",
   "metadata": {},
   "source": [
    "### Let's Run It!\n",
    "\n",
    "#### We will generate models and evaluate the modes using 10-fold cross-validation."
   ]
  },
  {
   "cell_type": "code",
   "execution_count": 11,
   "metadata": {},
   "outputs": [
    {
     "name": "stdout",
     "output_type": "stream",
     "text": [
      "model  0 : DT K = 1\n",
      "   Fold 1 accuracy: 91.33 %\n",
      "   Fold 2 accuracy: 97.33 %\n",
      "   Fold 3 accuracy: 92.67 %\n",
      "   Fold 4 accuracy: 93.33 %\n",
      "   Fold 5 accuracy: 94.67 %\n",
      "   Fold 6 accuracy: 92.00 %\n",
      "   Fold 7 accuracy: 96.67 %\n",
      "   Fold 8 accuracy: 89.33 %\n",
      "   Fold 9 accuracy: 96.00 %\n",
      "   Fold 10 accuracy: 92.00 %\n",
      "     Overall test accuracy: 93.53 %\n",
      "     Overall training accuracy: 100.00 %\n",
      "model  1 : DT K = 3\n",
      "   Fold 1 accuracy: 84.67 %\n",
      "   Fold 2 accuracy: 89.33 %\n",
      "   Fold 3 accuracy: 94.67 %\n",
      "   Fold 4 accuracy: 84.67 %\n",
      "   Fold 5 accuracy: 94.67 %\n",
      "   Fold 6 accuracy: 85.33 %\n",
      "   Fold 7 accuracy: 93.33 %\n",
      "   Fold 8 accuracy: 94.00 %\n",
      "   Fold 9 accuracy: 92.00 %\n",
      "   Fold 10 accuracy: 87.33 %\n",
      "     Overall test accuracy: 90.00 %\n",
      "     Overall training accuracy: 98.40 %\n",
      "model  2 : DT K = 5\n",
      "   Fold 1 accuracy: 94.67 %\n",
      "   Fold 2 accuracy: 91.33 %\n",
      "   Fold 3 accuracy: 92.67 %\n",
      "   Fold 4 accuracy: 89.33 %\n",
      "   Fold 5 accuracy: 90.67 %\n",
      "   Fold 6 accuracy: 90.00 %\n",
      "   Fold 7 accuracy: 90.67 %\n",
      "   Fold 8 accuracy: 90.00 %\n",
      "   Fold 9 accuracy: 90.00 %\n",
      "   Fold 10 accuracy: 92.00 %\n",
      "     Overall test accuracy: 91.13 %\n",
      "     Overall training accuracy: 96.80 %\n",
      "model  3 : DT K = 10\n",
      "   Fold 1 accuracy: 88.00 %\n",
      "   Fold 2 accuracy: 83.33 %\n",
      "   Fold 3 accuracy: 89.33 %\n",
      "   Fold 4 accuracy: 86.00 %\n",
      "   Fold 5 accuracy: 94.00 %\n",
      "   Fold 6 accuracy: 86.00 %\n",
      "   Fold 7 accuracy: 94.00 %\n",
      "   Fold 8 accuracy: 88.00 %\n",
      "   Fold 9 accuracy: 86.67 %\n",
      "   Fold 10 accuracy: 87.33 %\n",
      "     Overall test accuracy: 88.27 %\n",
      "     Overall training accuracy: 93.53 %\n",
      "model  4 : DT K = 15\n",
      "   Fold 1 accuracy: 86.00 %\n",
      "   Fold 2 accuracy: 86.67 %\n",
      "   Fold 3 accuracy: 88.67 %\n",
      "   Fold 4 accuracy: 88.67 %\n",
      "   Fold 5 accuracy: 88.67 %\n",
      "   Fold 6 accuracy: 83.33 %\n",
      "   Fold 7 accuracy: 86.00 %\n",
      "   Fold 8 accuracy: 88.00 %\n",
      "   Fold 9 accuracy: 86.67 %\n",
      "   Fold 10 accuracy: 86.67 %\n",
      "     Overall test accuracy: 86.93 %\n",
      "     Overall training accuracy: 92.07 %\n",
      "model  5 : DT K = 20\n",
      "   Fold 1 accuracy: 92.00 %\n",
      "   Fold 2 accuracy: 87.33 %\n",
      "   Fold 3 accuracy: 89.33 %\n",
      "   Fold 4 accuracy: 88.00 %\n",
      "   Fold 5 accuracy: 86.00 %\n",
      "   Fold 6 accuracy: 79.33 %\n",
      "   Fold 7 accuracy: 88.67 %\n",
      "   Fold 8 accuracy: 90.00 %\n",
      "   Fold 9 accuracy: 90.00 %\n",
      "   Fold 10 accuracy: 81.33 %\n",
      "     Overall test accuracy: 87.20 %\n",
      "     Overall training accuracy: 90.73 %\n",
      "model  6 : DT K = 40\n",
      "   Fold 1 accuracy: 87.33 %\n",
      "   Fold 2 accuracy: 89.33 %\n",
      "   Fold 3 accuracy: 86.67 %\n",
      "   Fold 4 accuracy: 84.67 %\n",
      "   Fold 5 accuracy: 82.67 %\n",
      "   Fold 6 accuracy: 84.67 %\n",
      "   Fold 7 accuracy: 85.33 %\n",
      "   Fold 8 accuracy: 89.33 %\n",
      "   Fold 9 accuracy: 84.67 %\n",
      "   Fold 10 accuracy: 87.33 %\n",
      "     Overall test accuracy: 86.20 %\n",
      "     Overall training accuracy: 87.27 %\n"
     ]
    }
   ],
   "source": [
    "results = []\n",
    "cont = []\n",
    "kf = KFold(n_splits=10, shuffle=True)\n",
    "K = [1, 3, 5, 10, 15, 20, 40]\n",
    "for k in range(len(K)):\n",
    "    fold = 1\n",
    "    truth = []\n",
    "    dt_prediction = []\n",
    "    print(\"model \", k, \": DT K = \" + str(K[k]))\n",
    "    test_count = 0\n",
    "    dt = DecisionTreeClassifier(random_state=0, min_samples_leaf=K[k], criterion=\"entropy\")\n",
    "    for train_idx, test_idx in kf.split(X):\n",
    "        trainX = X[train_idx]\n",
    "        trainY = Y[train_idx]\n",
    "        testX = X[test_idx]\n",
    "        testY = Y[test_idx]\n",
    "        truth.append(testY)\n",
    "        dt.fit(trainX, trainY)\n",
    "        Y_hat = dt.predict(testX)\n",
    "        dt_prediction.append(Y_hat)\n",
    "        print(\"   Fold %d accuracy: %.2f %%\" % (fold, ((np.sum(Y_hat == testY)/len(testY)) * 100.0)))                        \n",
    "        fold += 1\n",
    "    truth = np.concatenate(truth, axis=0)    \n",
    "    dt_prediction = np.concatenate(dt_prediction, axis=0)\n",
    "    test_results = np.sum(dt_prediction == truth)/len(truth)\n",
    "    print(\"     Overall test accuracy: %.2f %%\" % (test_results * 100))  \n",
    "    dt = dt.fit(X, Y)\n",
    "    Y_hat = dt.predict(X)\n",
    "    train_results = np.sum(Y_hat == Y)/len(Y)\n",
    "    print(\"     Overall training accuracy: %.2f %%\" % (train_results * 100.0))  \n",
    "    results.append([train_results, test_results])   \n",
    "    cont.append([truth, dt_prediction])\n",
    "\n"
   ]
  },
  {
   "cell_type": "code",
   "execution_count": 12,
   "metadata": {},
   "outputs": [
    {
     "data": {
      "image/png": "[encoded data removed]",
      "text/plain": [
       "<matplotlib.figure.Figure at 0x7f30a3bfff60>"
      ]
     },
     "metadata": {},
     "output_type": "display_data"
    }
   ],
   "source": [
    "tracc = [item[0] for item in results]\n",
    "tstacc = [item[1] for item in results]\n",
    "\n",
    "trainAcc = plt.plot(K, tracc, '-b', label='Training Error')\n",
    "testACC = plt.plot(K, tstacc, '-g', label='Testing Error')\n",
    "plt.title(\"DT Accuracy versus K Model Parameter\")\n",
    "plt.ylabel(\"Accuracy\")\n",
    "plt.xlabel(\"K\")\n",
    "plt.legend(loc=1)\n",
    "plt.show(block=False)"
   ]
  },
  {
   "cell_type": "markdown",
   "metadata": {},
   "source": [
    "### Contingency Tables\n",
    "\n",
    "#### Let's look at the contingency tables\n",
    "\n",
    "#### 1) Can you calculate the Sensitivity, Specificity, PPV, NPV? "
   ]
  },
  {
   "cell_type": "code",
   "execution_count": 13,
   "metadata": {
    "scrolled": true
   },
   "outputs": [
    {
     "name": "stdout",
     "output_type": "stream",
     "text": [
      "Enter Best Model: 2\n",
      "\n",
      "Decision Tree\n",
      "       Other  PNA  Total\n",
      "Other    947   80   1027\n",
      "PNA       53  420    473\n",
      "Total   1000  500   1500\n",
      "\n"
     ]
    }
   ],
   "source": [
    "model = input(\"Enter Best Model: \")\n",
    "best = cont[int(model)]\n",
    "dt_ct = pd.crosstab(best[1], best[0], margins=True)\n",
    "dt_ct.columns = [\"Other\", \"PNA\", \"Total\"]\n",
    "dt_ct.index = [\"Other\", \"PNA\", \"Total\"]\n",
    "print()\n",
    "print(\"Decision Tree\")\n",
    "print(dt_ct)\n",
    "print()\n"
   ]
  },
  {
   "cell_type": "markdown",
   "metadata": {},
   "source": [
    "### Evaluation Statistics\n",
    "\n",
    "#### We will calculate some test statistics for our classifiers"
   ]
  },
  {
   "cell_type": "code",
   "execution_count": 14,
   "metadata": {},
   "outputs": [
    {
     "name": "stdout",
     "output_type": "stream",
     "text": [
      "Decision Tree: Sensitivity: 0.84000 Specificity: 0.94700 PPV: 0.88795 NPV: 0.92210 Accuracy: 0.91133\n"
     ]
    }
   ],
   "source": [
    "Sens = dt_ct.iloc[1][1]/dt_ct.iloc[2][1]\n",
    "Spec = dt_ct.iloc[0][0]/dt_ct.iloc[2][0]\n",
    "PPV = dt_ct.iloc[1][1]/dt_ct.iloc[1][2]\n",
    "NPV = dt_ct.iloc[0][0]/dt_ct.iloc[0][2]\n",
    "ACC = (dt_ct.iloc[0][0] + dt_ct.iloc[1][1]) / dt_ct.iloc[2][2]\n",
    "print(\"Decision Tree: Sensitivity: %.5f Specificity: %.5f PPV: %.5f NPV: %.5f Accuracy: %.5f\" % (Sens, Spec, PPV, NPV, ACC))                                                                                      "
   ]
  },
  {
   "cell_type": "markdown",
   "metadata": {
    "collapsed": true
   },
   "source": [
    "### ROC Curve\n",
    "\n",
    "#### 1) So which classifier do you think is better?"
   ]
  },
  {
   "cell_type": "code",
   "execution_count": 16,
   "metadata": {},
   "outputs": [
    {
     "data": {
      "image/png": "[encoded data removed]",
      "text/plain": [
       "<matplotlib.figure.Figure at 0x7f30a3d48eb8>"
      ]
     },
     "metadata": {},
     "output_type": "display_data"
    },
    {
     "name": "stdout",
     "output_type": "stream",
     "text": [
      "AUC =  0.8935\n"
     ]
    }
   ],
   "source": [
    "dt_fpr, dt_tpr, dt_thresholds = roc_curve(best[0], best[1], pos_label=1)\n",
    "roc_auc = auc(dt_fpr, dt_tpr)\n",
    "plt.figure(1)\n",
    "plt.plot([0, 1], [0, 1], 'k--')\n",
    "plt.plot(dt_fpr, dt_tpr, label='DecisionTree')\n",
    "plt.xlabel('False positive rate (1 - Specificity)')\n",
    "plt.ylabel('True Positive Rate (Sensitivity)')\n",
    "plt.title('ROC curve')\n",
    "plt.legend(loc='best')\n",
    "plt.show()\n",
    "print(\"AUC = \", roc_auc)"
   ]
  },
  {
   "cell_type": "code",
   "execution_count": null,
   "metadata": {
    "collapsed": true
   },
   "outputs": [],
   "source": []
  },
  {
   "cell_type": "code",
   "execution_count": null,
   "metadata": {
    "collapsed": true
   },
   "outputs": [],
   "source": []
  }
 ],
 "metadata": {
  "kernelspec": {
   "display_name": "Python 3",
   "language": "python",
   "name": "python3"
  },
  "language_info": {
   "codemirror_mode": {
    "name": "ipython",
    "version": 3
   },
   "file_extension": ".py",
   "mimetype": "text/x-python",
   "name": "python",
   "nbconvert_exporter": "python",
   "pygments_lexer": "ipython3",
   "version": "3.5.2"
  },
  "widgets": {
   "state": {},
   "version": "1.1.1"
  }
 },
 "nbformat": 4,
 "nbformat_minor": 1
}
