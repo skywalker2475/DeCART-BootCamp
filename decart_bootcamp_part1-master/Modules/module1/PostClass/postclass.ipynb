{
 "cells": [
  {
   "cell_type": "markdown",
   "metadata": {},
   "source": [
    "<html>\n",
    "<table width=\"100%\" cellspacing=\"2\" cellpadding=\"2\" border=\"1\">\n",
    "<tbody>\n",
    "<tr>\n",
    "<td valign=\"center\" align=\"center\" width=\"25%\"><img src=\"../../../media/decartes.jpg\"\n",
    "alt=\"DeCART Icon\" width=\"128\" height=\"171\"><br>\n",
    "</td>\n",
    "<td valign=\"center\" align=\"center\" width=\"75%\">\n",
    "<h1 align=\"center\"><font size=\"+3\">DeCART Summer School<br>\n",
    "for<br>\n",
    "Biomedical Data Science</font></h1></td>\n",
    "<td valign=\"center\" align=\"center\" width=\"25%\"><img\n",
    "src=\"../../../media/U_Health_stacked_png_red.png\" alt=\"Utah Health\n",
    "Logo\" width=\"128\" height=\"134\"><br>\n",
    "</td>\n",
    "</tr>\n",
    "</tbody>\n",
    "</table>\n",
    "<br>\n",
    "</html>\n",
    "\n",
    "# What is Data Science\n",
    "\n",
    "Here are some excerpts from a recent PBS series [The Human Faceof Big Data](http://www.pbs.org/show/human-face-big-data/). Each clip is around 4 minutes long. "
   ]
  },
  {
   "cell_type": "code",
   "execution_count": null,
   "metadata": {},
   "outputs": [],
   "source": [
    "from IPython.display import YouTubeVideo\n",
    "from datetime import timedelta\n",
    "from IPython.display import display"
   ]
  },
  {
   "cell_type": "markdown",
   "metadata": {},
   "source": [
    "## The Human Face of Big Data Clip 1\n",
    "### Google Flu Trends and Learning Language"
   ]
  },
  {
   "cell_type": "code",
   "execution_count": null,
   "metadata": {},
   "outputs": [],
   "source": [
    "YouTubeVideo(\"3G9lrjcqXbk\", width = 800, height=600, \n",
    "             start = int(timedelta(minutes=9, seconds=0).total_seconds()),\n",
    "             end =int(timedelta(minutes=14, seconds=0).total_seconds()))\n"
   ]
  },
  {
   "cell_type": "markdown",
   "metadata": {},
   "source": [
    "## The Human Face of Big Data Clip 2\n",
    "### Predicting Infections in the ICU"
   ]
  },
  {
   "cell_type": "code",
   "execution_count": null,
   "metadata": {},
   "outputs": [],
   "source": [
    "YouTubeVideo(\"3G9lrjcqXbk\", width = 800, height=600, \n",
    "             start = int(timedelta(minutes=14, seconds=30).total_seconds()),\n",
    "             end =int(timedelta(minutes=18, seconds=0).total_seconds()))\n"
   ]
  },
  {
   "cell_type": "markdown",
   "metadata": {},
   "source": [
    "## The Human Face of Big Data Clip 3\n",
    "### Genomic Data"
   ]
  },
  {
   "cell_type": "code",
   "execution_count": null,
   "metadata": {},
   "outputs": [],
   "source": [
    "YouTubeVideo(\"3G9lrjcqXbk\", width = 800, height=600, \n",
    "             start = int(timedelta(minutes=17, seconds=49).total_seconds()),\n",
    "             end =int(timedelta(minutes=21, seconds=15).total_seconds()))"
   ]
  },
  {
   "cell_type": "markdown",
   "metadata": {},
   "source": [
    "## Historical Videos about the Creation of Unix"
   ]
  },
  {
   "cell_type": "code",
   "execution_count": null,
   "metadata": {},
   "outputs": [],
   "source": [
    "YouTubeVideo(\"tc4ROCJYbm0\", width=800, height=600,\n",
    "             start = int(timedelta(minutes=1, seconds=11).total_seconds()),\n",
    "             end =int(timedelta(minutes=10, seconds=49).total_seconds()))\n"
   ]
  },
  {
   "cell_type": "code",
   "execution_count": null,
   "metadata": {},
   "outputs": [],
   "source": [
    "YouTubeVideo(\"tc4ROCJYbm0\", width = 800, height=600, \n",
    "             start = int(timedelta(minutes=12, seconds=4).total_seconds()),\n",
    "             end =int(timedelta(minutes=19, seconds=2).total_seconds()))"
   ]
  },
  {
   "cell_type": "markdown",
   "metadata": {},
   "source": [
    "### Additional Shell Resources\n",
    "\n",
    "* [What CS majors should know about UNIX](http://matt.might.net/articles/what-cs-majors-should-know/)\n",
    "* [Command line demonstrations](http://www.commandlinefu.com/commands/browse)\n",
    "* [Bioinformatics on the Command Line](http://www.vicbioinformatics.com/documents/command-line/#/)\n",
    "* [sed tutorial](http://www.grymoire.com/Unix/Sed.html)\n",
    "* [awk tutorial](http://www.grymoire.com/Unix/Awk.html)\n",
    "* [grep tutorial](http://www.grymoire.com/Unix/Grep.html)\n",
    "* [Codeacademy shell tutorial](https://www.codecademy.com/learn/learn-the-command-line)."
   ]
  },
  {
   "cell_type": "markdown",
   "metadata": {},
   "source": [
    "<a rel=\"license\" href=\"http://creativecommons.org/licenses/by-nc-sa/4.0/\"><img alt=\"Creative Commons License\" style=\"border-width:0\" src=\"https://i.creativecommons.org/l/by-nc-sa/4.0/88x31.png\" /></a><br /><span xmlns:dct=\"http://purl.org/dc/terms/\" property=\"dct:title\">University of Utah DeCART Summer School for Biomedical Data Science.</span>\n",
    "\n",
    "<span xmlns:cc=\"http://creativecommons.org/ns#\" property=\"cc:attributionName\">&copy; Brian E. Chapman</span>. This material is licensed under a <a rel=\"license\" href=\"http://creativecommons.org/licenses/by-nc-sa/4.0/\">Creative Commons Attribution-NonCommercial-ShareAlike 4.0 International License</a>."
   ]
  },
  {
   "cell_type": "code",
   "execution_count": null,
   "metadata": {},
   "outputs": [],
   "source": []
  }
 ],
 "metadata": {
  "kernelspec": {
   "display_name": "Python 3",
   "language": "python",
   "name": "python3"
  },
  "language_info": {
   "codemirror_mode": {
    "name": "ipython",
    "version": 3
   },
   "file_extension": ".py",
   "mimetype": "text/x-python",
   "name": "python",
   "nbconvert_exporter": "python",
   "pygments_lexer": "ipython3",
   "version": "3.5.2"
  }
 },
 "nbformat": 4,
 "nbformat_minor": 1
}
