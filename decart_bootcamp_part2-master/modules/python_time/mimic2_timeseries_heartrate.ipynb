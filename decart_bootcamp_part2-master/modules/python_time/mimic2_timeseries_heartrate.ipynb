{
 "cells": [
  {
   "cell_type": "markdown",
   "metadata": {},
   "source": [
    "# Identifying Patient Cohorts in [MIMIC-II](http://www.ncbi.nlm.nih.gov/pmc/articles/PMC3124312/)\n"
   ]
  },
  {
   "cell_type": "code",
   "execution_count": null,
   "metadata": {},
   "outputs": [],
   "source": [
    "%matplotlib inline"
   ]
  },
  {
   "cell_type": "code",
   "execution_count": null,
   "metadata": {},
   "outputs": [],
   "source": [
    "import pymysql\n",
    "import pandas as pd\n",
    "import getpass\n",
    "import pandas as pd\n",
    "import seaborn as sns\n",
    "import datetime\n",
    "import time\n",
    "import matplotlib.pyplot as plt"
   ]
  },
  {
   "cell_type": "code",
   "execution_count": null,
   "metadata": {},
   "outputs": [],
   "source": [
    "conn = pymysql.connect(host=\"mysql\",\n",
    "                       port=3306,user=\"jovyan\",\n",
    "                       passwd=getpass.getpass(\"Enter MySQL passwd for jovyan\"),db='mimic2')\n",
    "cursor = conn.cursor()"
   ]
  },
  {
   "cell_type": "markdown",
   "metadata": {},
   "source": [
    "## Example Query: Heart Rate and Blood Pressure\n",
    "\n",
    "#### Select a patient from the following ids\n",
    "* 12613\n",
    "* 11923\n",
    "* 517\n",
    "* 14898"
   ]
  },
  {
   "cell_type": "code",
   "execution_count": null,
   "metadata": {},
   "outputs": [],
   "source": []
  },
  {
   "cell_type": "code",
   "execution_count": null,
   "metadata": {},
   "outputs": [],
   "source": [
    "hr = pd.read_sql(\"\"\"SELECT subject_id, \n",
    "                           icustay_id, \n",
    "                           charttime, \n",
    "                           realtime,\n",
    "                           value1num,\n",
    "                           value1uom\n",
    "                    FROM chartevents\n",
    "                    WHERE itemid in (211) AND\n",
    "                          subject_id in (11923)\"\"\"\n",
    "    ,conn)\n",
    "hr.head()"
   ]
  },
  {
   "cell_type": "code",
   "execution_count": null,
   "metadata": {},
   "outputs": [],
   "source": [
    "bp = pd.read_sql(\"\"\"SELECT subject_id, \n",
    "                           icustay_id, \n",
    "                           charttime, \n",
    "                           realtime,\n",
    "                           value1num,\n",
    "                           value1uom,\n",
    "                           value2num,\n",
    "                           value2uom\n",
    "                    FROM chartevents\n",
    "                    WHERE itemid in (6, 51, 455, 6701) AND\n",
    "                          subject_id in (11923)\"\"\"\n",
    "    ,conn)\n",
    "bp.head()"
   ]
  },
  {
   "cell_type": "code",
   "execution_count": null,
   "metadata": {},
   "outputs": [],
   "source": [
    "print(bp[\"icustay_id\"].value_counts())\n",
    "print(bp[\"subject_id\"].value_counts())"
   ]
  },
  {
   "cell_type": "code",
   "execution_count": null,
   "metadata": {},
   "outputs": [],
   "source": [
    "hr[\"icustay_id\"].value_counts()"
   ]
  },
  {
   "cell_type": "markdown",
   "metadata": {},
   "source": [
    "### Plot Heart Rate as a Time Series"
   ]
  },
  {
   "cell_type": "code",
   "execution_count": null,
   "metadata": {},
   "outputs": [],
   "source": [
    "hr.plot(x=\"realtime\", y=\"value1num\")"
   ]
  },
  {
   "cell_type": "markdown",
   "metadata": {},
   "source": [
    "#### What went wrong?\n",
    "\n",
    "As part of their de-identication process, the MIMIC2 creators have created large, random time shifts. We can look at the first data point to see what our calendar is"
   ]
  },
  {
   "cell_type": "code",
   "execution_count": null,
   "metadata": {},
   "outputs": [],
   "source": [
    "print(hr[\"realtime\"][0])\n"
   ]
  },
  {
   "cell_type": "markdown",
   "metadata": {},
   "source": [
    "#### Our data is from the year 2654 which for whatever reason pandas can't plot.\n",
    "### We can shift the data back to our own time\n",
    "#### Compute the timedelta between the now and the first data point."
   ]
  },
  {
   "cell_type": "code",
   "execution_count": null,
   "metadata": {},
   "outputs": [],
   "source": [
    "first_time = hr[\"realtime\"][0]\n",
    "time_delta = first_time - datetime.datetime.now()\n",
    "print(time_delta.days)"
   ]
  },
  {
   "cell_type": "code",
   "execution_count": null,
   "metadata": {},
   "outputs": [],
   "source": [
    "first_time - time_delta"
   ]
  },
  {
   "cell_type": "markdown",
   "metadata": {},
   "source": [
    "## Exercise: Use Pandas apply to create new columns with charttimes and real times shifted to starting at the current  date for the heart rate and blood pressure data"
   ]
  },
  {
   "cell_type": "code",
   "execution_count": null,
   "metadata": {},
   "outputs": [],
   "source": []
  },
  {
   "cell_type": "code",
   "execution_count": null,
   "metadata": {},
   "outputs": [],
   "source": []
  },
  {
   "cell_type": "code",
   "execution_count": null,
   "metadata": {},
   "outputs": [],
   "source": [
    "hr[hr[\"icustay_id\"]==14882].plot(x=\"new charttime\", \n",
    "                                 y=\"value1num\")\n",
    "hr[hr[\"icustay_id\"]!=14882].plot(x=\"new charttime\", \n",
    "                                 y=\"value1num\", color='red')"
   ]
  },
  {
   "cell_type": "code",
   "execution_count": null,
   "metadata": {},
   "outputs": [],
   "source": [
    "bp[bp[\"icustay_id\"]==14882].plot(x=\"new charttime\", \n",
    "                                 y=[\"value1num\", \"value2num\"])\n",
    "bp[bp[\"icustay_id\"]!=14882].plot(x=\"new charttime\", \n",
    "                                 y=[\"value1num\", \"value2num\"])"
   ]
  },
  {
   "cell_type": "code",
   "execution_count": null,
   "metadata": {},
   "outputs": [],
   "source": [
    "hr[\"chart delta\"] = \\\n",
    "hr.apply(lambda x: (x[\"charttime\"] - \n",
    "                        x[\"realtime\"]).total_seconds(), axis=1)\n",
    "hr.head()"
   ]
  },
  {
   "cell_type": "markdown",
   "metadata": {},
   "source": [
    "## Exercise: Timestamp from datetime\n",
    "#### Using ``time.mktime`` and ``datetime.timetuple`` create timestamps for each measurement"
   ]
  },
  {
   "cell_type": "code",
   "execution_count": null,
   "metadata": {},
   "outputs": [],
   "source": [
    "time.mktime(first_time.timetuple())"
   ]
  },
  {
   "cell_type": "code",
   "execution_count": null,
   "metadata": {},
   "outputs": [],
   "source": []
  },
  {
   "cell_type": "code",
   "execution_count": null,
   "metadata": {},
   "outputs": [],
   "source": [
    "hr[[\"new charttime\",\"new realtime\",\"chart delta\"]][hr[\"icustay_id\"]==14882].plot.line(x=\"new charttime\", \n",
    "                               y=\"chart delta\")"
   ]
  },
  {
   "cell_type": "code",
   "execution_count": null,
   "metadata": {},
   "outputs": [],
   "source": []
  }
 ],
 "metadata": {
  "kernelspec": {
   "display_name": "Python 3",
   "language": "python",
   "name": "python3"
  },
  "language_info": {
   "codemirror_mode": {
    "name": "ipython",
    "version": 3
   },
   "file_extension": ".py",
   "mimetype": "text/x-python",
   "name": "python",
   "nbconvert_exporter": "python",
   "pygments_lexer": "ipython3",
   "version": "3.5.2"
  }
 },
 "nbformat": 4,
 "nbformat_minor": 0
}
