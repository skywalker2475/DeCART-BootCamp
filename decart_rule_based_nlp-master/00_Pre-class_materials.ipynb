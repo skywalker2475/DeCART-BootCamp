{
 "cells": [
  {
   "cell_type": "markdown",
   "metadata": {},
   "source": [
    "# Introduction to the course \n",
    "# DEVELOPING A RULE-BASED NLP APPLICATION\n",
    "\n",
    "## Instructor: Wendy Chapman, Kelly Peterson, Jianlin Shi\n",
    "\n",
    "A hypothetical healthcare delivery system has asked us to determine whether use of opioids is associated with increased risk of community-acquired pneumonia in adults. We have two-and-a-half days to identify patients with pneumonia so that the health services team can assess the risk based on pharmacy data. There is not enough time to manually read through the thousands of charts, so we will apply natural language processing for the task. Student teams in this course will collaboratively build an NLP application for identifying patients with pneumonia from a publicly available dataset. You will apply existing tools to annotate a reference standard and to create a computable knowledge base (OWL ontology) of conditions in the CDC pneumonia case definition. You will then use the pyConText library to build rule-based NLP tools to identify those conditions in clinical reports and determine which patients have pneumonia. We will evaluate the predictive performance of the tools and discuss the costs and benefits of rule-based NLP.\n",
    "\n",
    "Students completing this course will be able to\n",
    "\n",
    "* Explain the cost and benefit of using NLP for cohort identification\n",
    "* Develop annotation guidelines\n",
    "* Annotate a reference standard set using existing annotation tools\n",
    "* Develop a knowledge base that will drive information extraction from clinical text\n",
    "* Build a rule-based NLP tool using the Python library pyConText\n",
    "* Evaluate performance of an NLP tool\n",
    "\n",
    "Prerequisites:\n",
    "\n",
    "You will be working in teams, so the following prerequisites apply to the skills of an entire team:\n",
    "\n",
    "* Some experience programming with Python\n",
    "* Clinical domain expertise\n",
    "* Organizational abilities"
   ]
  },
  {
   "cell_type": "markdown",
   "metadata": {},
   "source": [
    "# Before the course, please do all of the following:"
   ]
  },
  {
   "cell_type": "markdown",
   "metadata": {},
   "source": [
    "## 1. Pre-course skills/knowledge survey\n",
    "### Please take this survey: https://goo.gl/forms/X2SbRkxtvjKa7krP2"
   ]
  },
  {
   "cell_type": "markdown",
   "metadata": {},
   "source": [
    "## 2. Introduction to pneumonia\n",
    "### Please watch this video:"
   ]
  },
  {
   "cell_type": "code",
   "execution_count": null,
   "metadata": {
    "collapsed": true
   },
   "outputs": [],
   "source": [
    "from IPython.display import YouTubeVideo\n",
    "YouTubeVideo(\"0xvaYVoBwzU\")"
   ]
  },
  {
   "cell_type": "markdown",
   "metadata": {},
   "source": [
    "## 3. Introduction to radiologic diagnosis of pneumonia\n",
    "### Please watch this video:"
   ]
  },
  {
   "cell_type": "code",
   "execution_count": null,
   "metadata": {
    "collapsed": true
   },
   "outputs": [],
   "source": [
    "from IPython.display import YouTubeVideo\n",
    "YouTubeVideo(\"uhRIu8bDYA0\")"
   ]
  },
  {
   "cell_type": "markdown",
   "metadata": {},
   "source": [
    "## 4. Introduction to outcome metrics for NLP\n",
    "### Please watch this video:"
   ]
  },
  {
   "cell_type": "code",
   "execution_count": null,
   "metadata": {
    "collapsed": true
   },
   "outputs": [],
   "source": [
    "from IPython.display import YouTubeVideo\n",
    "YouTubeVideo(\"VPZiJGNX4_s\")"
   ]
  },
  {
   "cell_type": "markdown",
   "metadata": {
    "collapsed": true
   },
   "source": [
    "## Additional resources\n",
    "### The actual case study that we designed the course around:\n",
    "https://www.ncbi.nlm.nih.gov/pubmed/22091503\n",
    "\n",
    "### The process for manual chart review (we want to improve on it using NLP):\n",
    "https://www.ncbi.nlm.nih.gov/pmc/articles/PMC2277255/"
   ]
  },
  {
   "cell_type": "code",
   "execution_count": null,
   "metadata": {
    "collapsed": true
   },
   "outputs": [],
   "source": []
  }
 ],
 "metadata": {
  "kernelspec": {
   "display_name": "Python 3",
   "language": "python",
   "name": "python3"
  },
  "language_info": {
   "codemirror_mode": {
    "name": "ipython",
    "version": 3
   },
   "file_extension": ".py",
   "mimetype": "text/x-python",
   "name": "python",
   "nbconvert_exporter": "python",
   "pygments_lexer": "ipython3",
   "version": "3.5.2"
  }
 },
 "nbformat": 4,
 "nbformat_minor": 2
}
