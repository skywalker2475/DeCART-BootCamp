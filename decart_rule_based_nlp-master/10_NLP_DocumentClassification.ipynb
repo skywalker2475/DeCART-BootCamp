{
 "cells": [
  {
   "cell_type": "markdown",
   "metadata": {},
   "source": [
    "# From Mention-Level Annotations to Document Classification\n",
    "\n",
    "## 1. Why do we need document classification?\n",
    "\n",
    "Think about a case with multiple mentions in one document. How do we decide the document level conclusion when these mentions have \"conflicted\" information? For example, \n",
    "\n",
    ">Small **left pleural effusion**. **Right pleural effusion can be excluded**.\n",
    "\n",
    "In this example, should we conclude that the report indicates pneumonia or does not indicate pneumonia?\n",
    "\n",
    "There are many other situations that we need to draw a document level conclusion based on multiple mention level annotations. Certainly, we can train a machine learning classifier to accomplish this task, which you will learn in another class. But here we are going to learn how to do it in rule-based way."
   ]
  },
  {
   "cell_type": "markdown",
   "metadata": {},
   "source": [
    "## 2. Restore from where we are using pyConText"
   ]
  },
  {
   "cell_type": "code",
   "execution_count": null,
   "metadata": {
    "collapsed": true
   },
   "outputs": [],
   "source": [
    "#import everything that we will need\n",
    "import pyConTextNLP\n",
    "from pyConTextNLP import pyConTextGraph\n",
    "from pyConTextNLP.itemData import itemData\n",
    "from pyConTextNLP.display.html import mark_document_with_html\n",
    "import os\n",
    "import os.path\n",
    "from nlp_pneumonia_utils import Annotation\n",
    "from nlp_pneumonia_utils import AnnotatedDocument\n",
    "from nlp_pneumonia_utils import read_brat_annotations\n",
    "from nlp_pneumonia_utils import read_annotations\n",
    "from nlp_pneumonia_utils import calculate_prediction_metrics\n",
    "from nlp_pneumonia_utils import markup_context_document\n",
    "from nlp_pneumonia_utils import DocumentClassifier\n",
    "from IPython.display import display, HTML, Image"
   ]
  },
  {
   "cell_type": "code",
   "execution_count": null,
   "metadata": {
    "collapsed": true
   },
   "outputs": [],
   "source": [
    "# Let's just consider the example at the beginning as a document,\n",
    "# and run pyConText to get markups\n",
    "\n",
    "report = \"Right pleural effusion can be excluded. Likely small left pleural effusion. \"\n",
    "\n",
    "targets = itemData([\"effusion\", \"SPAN_POSITIVE_PNEUMONIA_EVIDENCE\", r\"effusion[s]?\", \"\"])\n",
    "\n",
    "modifiers = pyConTextNLP.itemData.instantiateFromCSVtoitemData(os.path.join(os.getcwd(),'KB/pneumonia_modifiers.tsv'))\n",
    "\n",
    "markups=markup_context_document(report,modifiers,targets)"
   ]
  },
  {
   "cell_type": "code",
   "execution_count": null,
   "metadata": {
    "collapsed": true
   },
   "outputs": [],
   "source": [
    "# To confirm what we get from pyConText\n",
    "print(markups.getDocumentGraph())\n",
    "        \n",
    "\n",
    "context_html = pyConTextNLP.display.html.\\\n",
    "    mark_document_with_html(markups, colors = {\"span_positive_pneumonia_evidence\": \"blue\"})\n",
    "display(HTML(context_html))"
   ]
  },
  {
   "cell_type": "markdown",
   "metadata": {},
   "source": [
    "## 3. Use DocumentClassifier to define the rules for document classification\n",
    "\n",
    "DocumentClassifier is a simple class that allows you to customize your own rules outside python code. For each type of annotations, we can draw a document level conclusion by check through these annotations' modifier values.  Each rule is specified in one line, and may have 1~3 elements separated by a 'TAB' character.\n",
    "\n",
    "* If a rule has one element, then this element means the default document level conclusion\n",
    "\n",
    "  \n",
    "* If a rule has two elements, then the left element is the document level conclusion, and the right one is the annotation type.\n",
    " + *For example: \"indicate_pneumonia\tspan_positive_pneumonia_evidence\" means if any annotation with type \"span_positive_pneumonia_evidence\" exist, conclude \"indicate_pneumonia\" no matter what the modifier values are.*\n",
    "\n",
    "\n",
    "* If a rule has three or more elements, the left two elements have the same meaning as the second format above. The rest elements represent a set of modifier values. The rule means only when **all** these modifier values exist in this annotation, we can draw the conclusion.\n",
    " + *For example: \"indicate_pneumonia\tspan_positive_pneumonia_evidence\tdefinite_existence\" means if an annotation with type \"span_positive_pneumonia_evidence\" has a modifier value \"definite_existence\", we conclude \"indicate_pneumonia.\"*\n",
    " \n",
    "\n",
    "The rule will be executed in order for each type of annotations, whenever a rule is satisfied, the rest rules of this type will be skipped. So the top rules have higher priority, and usually the default conclusion rule should be put at the end.\n",
    "\n",
    "Now let's start from something really simple:"
   ]
  },
  {
   "cell_type": "markdown",
   "metadata": {},
   "source": [
    "### (1) Define a default document conclusion\n",
    "\n",
    "\n",
    "Let's start with something really simple:\n",
    "\n",
    "```Python\n",
    "no_indicate_pneumonia\n",
    "```\n",
    "This rule means no matter what annotations we got from pyConText, let's conclusion 'no_indicate_pneumonia'.\n"
   ]
  },
  {
   "cell_type": "code",
   "execution_count": null,
   "metadata": {
    "collapsed": true
   },
   "outputs": [],
   "source": [
    "# The 1st argument is used to read a rule file, here we start with using string instead, so put None for now\n",
    "# The 2nd argument is specify whether run in debug mood or not (try it yourself by change it to 'True')\n",
    "# The last argument is input rules as a string\n",
    "docClassifier = DocumentClassifier('no_indicate_pneumonia', None)\n",
    "print(docClassifier.classify_markups(markups))"
   ]
  },
  {
   "cell_type": "markdown",
   "metadata": {},
   "source": [
    "### (2) Define one more rule\n",
    "\n",
    "Now we add one more rule to make some sense:\n",
    "\n",
    "```Python\n",
    "possible_pneumonia\tspan_positive_pneumonia_evidence\tprobable_existence\n",
    "```\n",
    "What does this rule mean?\n",
    "\n",
    "Let's put these two rules into code and try:"
   ]
  },
  {
   "cell_type": "code",
   "execution_count": null,
   "metadata": {
    "collapsed": true
   },
   "outputs": [],
   "source": [
    "rule='''possible_pneumonia\\tspan_positive_pneumonia_evidence\\tprobable_existence\\n\n",
    "no_indicate_pneumonia\\tspan_positive_pneumonia_evidence\\tdefinite_negated_existence\\n\n",
    "no_indicate_pneumonia''';\n",
    "docClassifier = DocumentClassifier(rule, False)\n",
    "print(docClassifier.classify_markups(markups))    "
   ]
  },
  {
   "cell_type": "markdown",
   "metadata": {
    "collapsed": true
   },
   "source": [
    "### (3) Excercise\n",
    "Try one more rules with two modifiers:\n"
   ]
  },
  {
   "cell_type": "code",
   "execution_count": null,
   "metadata": {
    "collapsed": true
   },
   "outputs": [],
   "source": [
    "## Let's try a document that have an annotation with two modifiers\n",
    "report = \"Right pleural effusion can be excluded. Likely without any left pleural effusion.\"\n",
    "rule='''possible_neg_pneumonia\\tspan_positive_pneumonia_evidence\\tprobable_existence\\tdefinite_negated_existence\\n\n",
    "no_indicate_pneumonia''';\n",
    "\n",
    "docClassifier = DocumentClassifier(rule, True)\n",
    "print(docClassifier.classify_markups(markups)) \n"
   ]
  },
  {
   "cell_type": "markdown",
   "metadata": {
    "collapsed": true
   },
   "source": [
    "### (4) Put the rules outside our code\n",
    "\n",
    "Similar to how we handle pyConText rules, we can put the document classification rules outside our code. Here is the rule file [classifierRules.csv](../../edit/decart_rule_based_nlp/KB/classifierRules.csv). Now we can use the 1st argument of DocumentClassifier to initiate this class:"
   ]
  },
  {
   "cell_type": "code",
   "execution_count": null,
   "metadata": {
    "collapsed": true
   },
   "outputs": [],
   "source": [
    "docClassifier = DocumentClassifier('KB/classifierRules.csv', True,modifiers,targets) \n",
    "print(docClassifier.classify_doc(report)) "
   ]
  },
  {
   "cell_type": "markdown",
   "metadata": {
    "collapsed": true
   },
   "source": [
    "### (5) Let's try to switch the sentences in the example\n",
    "See what happens. Does the order of mention-level annotation affects final conclusion?\n",
    "\n",
    "\n",
    "\n",
    "\n",
    "### (6) Let's try to add one more question \n",
    "\n",
    "Is the document's conclusion certain or uncertain?\n",
    "\n",
    "put all together in a separate file"
   ]
  },
  {
   "cell_type": "markdown",
   "metadata": {},
   "source": [
    "## 4. Quiz\n",
    "Let's try a few questions, see if you've understood the content of this notebook:"
   ]
  },
  {
   "cell_type": "code",
   "execution_count": null,
   "metadata": {
    "collapsed": true
   },
   "outputs": [],
   "source": [
    "from quiz_utils import doc_classify_1\n",
    "doc_classify_1()"
   ]
  },
  {
   "cell_type": "code",
   "execution_count": null,
   "metadata": {
    "collapsed": true
   },
   "outputs": [],
   "source": [
    "from quiz_utils import doc_classify_2\n",
    "doc_classify_2()"
   ]
  },
  {
   "cell_type": "code",
   "execution_count": null,
   "metadata": {
    "collapsed": true
   },
   "outputs": [],
   "source": [
    "from quiz_utils import doc_classify_3\n",
    "doc_classify_3()"
   ]
  },
  {
   "cell_type": "markdown",
   "metadata": {
    "collapsed": true
   },
   "source": [
    "<br/><br/>This material presented as part of the DeCART Data Science for the Health Science Summer Program at the University of Utah in 2017.<br/>\n",
    "Presenters : Dr.Wendy Chapman, Jianlin Shi and Kelly Peterson"
   ]
  }
 ],
 "metadata": {
  "kernelspec": {
   "display_name": "Python 3",
   "language": "python",
   "name": "python3"
  },
  "language_info": {
   "codemirror_mode": {
    "name": "ipython",
    "version": 3
   },
   "file_extension": ".py",
   "mimetype": "text/x-python",
   "name": "python",
   "nbconvert_exporter": "python",
   "pygments_lexer": "ipython3",
   "version": "3.5.2"
  }
 },
 "nbformat": 4,
 "nbformat_minor": 2
}
